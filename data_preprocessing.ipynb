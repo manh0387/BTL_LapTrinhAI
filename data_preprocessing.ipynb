{
 "cells": [
  {
   "attachments": {},
   "cell_type": "markdown",
   "metadata": {},
   "source": [
    "# Tiền xử lý dữ liệu"
   ]
  },
  {
   "attachments": {},
   "cell_type": "markdown",
   "metadata": {},
   "source": [
    "## Mục tiêu\n",
    "- Đưa ra góc nhìn tổng quan về dữ liệu\n",
    "- Chuyển dữ liệu ngày tháng sang kiểu `datetime`\n",
    "- Phân tách dữ liệu ra thành các tệp nhỏ hơn"
   ]
  },
  {
   "attachments": {},
   "cell_type": "markdown",
   "metadata": {},
   "source": [
    "## Khai báo thư viện cần dùng"
   ]
  },
  {
   "cell_type": "code",
   "execution_count": 1,
   "metadata": {},
   "outputs": [],
   "source": [
    "import pandas as pd\n",
    "from pathlib import Path"
   ]
  },
  {
   "attachments": {},
   "cell_type": "markdown",
   "metadata": {},
   "source": [
    "## Đọc/Ghi dữ liệu"
   ]
  },
  {
   "attachments": {},
   "cell_type": "markdown",
   "metadata": {},
   "source": [
    "- Dữ liệu đầu vào/đầu ra được lưu trữ trong thư mục `data`\n",
    "- Dữ liệu được lấy tại [đây](https://www.kaggle.com/datasets/georgesaavedra/covid19-dataset)\n",
    "- Dữ liệu được đăng lên bởi **Mathieu, E., Ritchie, H., Ortiz-Ospina, E. et al.**"
   ]
  },
  {
   "cell_type": "code",
   "execution_count": 2,
   "metadata": {},
   "outputs": [],
   "source": [
    "SRC_LINK = Path('data/')\n",
    "covid_df = pd.read_csv(SRC_LINK / 'covid-data.csv')"
   ]
  },
  {
   "attachments": {},
   "cell_type": "markdown",
   "metadata": {},
   "source": [
    "### Tổng quan về dữ liệu"
   ]
  },
  {
   "cell_type": "code",
   "execution_count": 3,
   "metadata": {},
   "outputs": [
    {
     "data": {
      "text/plain": [
       "(166326, 67)"
      ]
     },
     "execution_count": 3,
     "metadata": {},
     "output_type": "execute_result"
    }
   ],
   "source": [
    "covid_df.shape"
   ]
  },
  {
   "attachments": {},
   "cell_type": "markdown",
   "metadata": {},
   "source": [
    "Dữ liệu bao gồm 166326 theo dõi, tương ứng với 67 cột (trường dữ liệu)"
   ]
  },
  {
   "cell_type": "code",
   "execution_count": 4,
   "metadata": {},
   "outputs": [
    {
     "name": "stdout",
     "output_type": "stream",
     "text": [
      "<class 'pandas.core.frame.DataFrame'>\n",
      "RangeIndex: 166326 entries, 0 to 166325\n",
      "Data columns (total 67 columns):\n",
      " #   Column                                      Non-Null Count   Dtype  \n",
      "---  ------                                      --------------   -----  \n",
      " 0   iso_code                                    166326 non-null  object \n",
      " 1   continent                                   156370 non-null  object \n",
      " 2   location                                    166326 non-null  object \n",
      " 3   date                                        166326 non-null  object \n",
      " 4   total_cases                                 163293 non-null  float64\n",
      " 5   new_cases                                   163133 non-null  float64\n",
      " 6   new_cases_smoothed                          161150 non-null  float64\n",
      " 7   total_deaths                                145451 non-null  float64\n",
      " 8   new_deaths                                  145487 non-null  float64\n",
      " 9   new_deaths_smoothed                         143390 non-null  float64\n",
      " 10  total_cases_per_million                     162535 non-null  float64\n",
      " 11  new_cases_per_million                       162375 non-null  float64\n",
      " 12  new_cases_smoothed_per_million              160398 non-null  float64\n",
      " 13  total_deaths_per_million                    144706 non-null  float64\n",
      " 14  new_deaths_per_million                      144742 non-null  float64\n",
      " 15  new_deaths_smoothed_per_million             142651 non-null  float64\n",
      " 16  reproduction_rate                           125820 non-null  float64\n",
      " 17  icu_patients                                23463 non-null   float64\n",
      " 18  icu_patients_per_million                    23463 non-null   float64\n",
      " 19  hosp_patients                               24617 non-null   float64\n",
      " 20  hosp_patients_per_million                   24617 non-null   float64\n",
      " 21  weekly_icu_admissions                       5433 non-null    float64\n",
      " 22  weekly_icu_admissions_per_million           5433 non-null    float64\n",
      " 23  weekly_hosp_admissions                      10923 non-null   float64\n",
      " 24  weekly_hosp_admissions_per_million          10923 non-null   float64\n",
      " 25  new_tests                                   67317 non-null   float64\n",
      " 26  total_tests                                 69255 non-null   float64\n",
      " 27  total_tests_per_thousand                    69255 non-null   float64\n",
      " 28  new_tests_per_thousand                      67317 non-null   float64\n",
      " 29  new_tests_smoothed                          84035 non-null   float64\n",
      " 30  new_tests_smoothed_per_thousand             84035 non-null   float64\n",
      " 31  positive_rate                               78655 non-null   float64\n",
      " 32  tests_per_case                              78084 non-null   float64\n",
      " 33  tests_units                                 86386 non-null   object \n",
      " 34  total_vaccinations                          45194 non-null   float64\n",
      " 35  people_vaccinated                           42987 non-null   float64\n",
      " 36  people_fully_vaccinated                     40241 non-null   float64\n",
      " 37  total_boosters                              17539 non-null   float64\n",
      " 38  new_vaccinations                            37447 non-null   float64\n",
      " 39  new_vaccinations_smoothed                   84398 non-null   float64\n",
      " 40  total_vaccinations_per_hundred              45194 non-null   float64\n",
      " 41  people_vaccinated_per_hundred               42987 non-null   float64\n",
      " 42  people_fully_vaccinated_per_hundred         40241 non-null   float64\n",
      " 43  total_boosters_per_hundred                  17539 non-null   float64\n",
      " 44  new_vaccinations_smoothed_per_million       84398 non-null   float64\n",
      " 45  new_people_vaccinated_smoothed              83088 non-null   float64\n",
      " 46  new_people_vaccinated_smoothed_per_hundred  83088 non-null   float64\n",
      " 47  stringency_index                            130072 non-null  float64\n",
      " 48  population                                  165251 non-null  float64\n",
      " 49  population_density                          147928 non-null  float64\n",
      " 50  median_age                                  137831 non-null  float64\n",
      " 51  aged_65_older                               136337 non-null  float64\n",
      " 52  aged_70_older                               137092 non-null  float64\n",
      " 53  gdp_per_capita                              138504 non-null  float64\n",
      " 54  extreme_poverty                             91215 non-null   float64\n",
      " 55  cardiovasc_death_rate                       136778 non-null  float64\n",
      " 56  diabetes_prevalence                         143949 non-null  float64\n",
      " 57  female_smokers                              106050 non-null  float64\n",
      " 58  male_smokers                                104595 non-null  float64\n",
      " 59  handwashing_facilities                      68569 non-null   float64\n",
      " 60  hospital_beds_per_thousand                  123664 non-null  float64\n",
      " 61  life_expectancy                             155268 non-null  float64\n",
      " 62  human_development_index                     136253 non-null  float64\n",
      " 63  excess_mortality_cumulative_absolute        5696 non-null    float64\n",
      " 64  excess_mortality_cumulative                 5696 non-null    float64\n",
      " 65  excess_mortality                            5696 non-null    float64\n",
      " 66  excess_mortality_cumulative_per_million     5696 non-null    float64\n",
      "dtypes: float64(62), object(5)\n",
      "memory usage: 85.0+ MB\n"
     ]
    }
   ],
   "source": [
    "# In ra thông tin của DataFrame\n",
    "covid_df.info()"
   ]
  },
  {
   "attachments": {},
   "cell_type": "markdown",
   "metadata": {},
   "source": [
    "> Vì mục tiêu của nhóm là sẽ xây dựng mô hình dự đoán số ca nhiễm nên sẽ sử dụng thông tin từ 6 cột sau\n",
    "- `iso_code`: International unique identifier of the country\n",
    "- `continent`: Continent where the country is located\n",
    "- `location`: Name of the country.\n",
    "- `date`: Date when the recording was done.\n",
    "- `total_cases`: Since here the features are explicitly explained by their name.\n",
    "- `new_cases`: The new cases is recorded"
   ]
  },
  {
   "cell_type": "code",
   "execution_count": 5,
   "metadata": {},
   "outputs": [
    {
     "data": {
      "text/html": [
       "<div>\n",
       "<style scoped>\n",
       "    .dataframe tbody tr th:only-of-type {\n",
       "        vertical-align: middle;\n",
       "    }\n",
       "\n",
       "    .dataframe tbody tr th {\n",
       "        vertical-align: top;\n",
       "    }\n",
       "\n",
       "    .dataframe thead th {\n",
       "        text-align: right;\n",
       "    }\n",
       "</style>\n",
       "<table border=\"1\" class=\"dataframe\">\n",
       "  <thead>\n",
       "    <tr style=\"text-align: right;\">\n",
       "      <th></th>\n",
       "      <th>iso_code</th>\n",
       "      <th>continent</th>\n",
       "      <th>location</th>\n",
       "      <th>date</th>\n",
       "      <th>total_cases</th>\n",
       "      <th>new_cases</th>\n",
       "    </tr>\n",
       "  </thead>\n",
       "  <tbody>\n",
       "    <tr>\n",
       "      <th>0</th>\n",
       "      <td>AFG</td>\n",
       "      <td>Asia</td>\n",
       "      <td>Afghanistan</td>\n",
       "      <td>2020-02-24</td>\n",
       "      <td>5.0</td>\n",
       "      <td>5.0</td>\n",
       "    </tr>\n",
       "    <tr>\n",
       "      <th>1</th>\n",
       "      <td>AFG</td>\n",
       "      <td>Asia</td>\n",
       "      <td>Afghanistan</td>\n",
       "      <td>2020-02-25</td>\n",
       "      <td>5.0</td>\n",
       "      <td>0.0</td>\n",
       "    </tr>\n",
       "    <tr>\n",
       "      <th>2</th>\n",
       "      <td>AFG</td>\n",
       "      <td>Asia</td>\n",
       "      <td>Afghanistan</td>\n",
       "      <td>2020-02-26</td>\n",
       "      <td>5.0</td>\n",
       "      <td>0.0</td>\n",
       "    </tr>\n",
       "    <tr>\n",
       "      <th>3</th>\n",
       "      <td>AFG</td>\n",
       "      <td>Asia</td>\n",
       "      <td>Afghanistan</td>\n",
       "      <td>2020-02-27</td>\n",
       "      <td>5.0</td>\n",
       "      <td>0.0</td>\n",
       "    </tr>\n",
       "    <tr>\n",
       "      <th>4</th>\n",
       "      <td>AFG</td>\n",
       "      <td>Asia</td>\n",
       "      <td>Afghanistan</td>\n",
       "      <td>2020-02-28</td>\n",
       "      <td>5.0</td>\n",
       "      <td>0.0</td>\n",
       "    </tr>\n",
       "  </tbody>\n",
       "</table>\n",
       "</div>"
      ],
      "text/plain": [
       "  iso_code continent     location        date  total_cases  new_cases\n",
       "0      AFG      Asia  Afghanistan  2020-02-24          5.0        5.0\n",
       "1      AFG      Asia  Afghanistan  2020-02-25          5.0        0.0\n",
       "2      AFG      Asia  Afghanistan  2020-02-26          5.0        0.0\n",
       "3      AFG      Asia  Afghanistan  2020-02-27          5.0        0.0\n",
       "4      AFG      Asia  Afghanistan  2020-02-28          5.0        0.0"
      ]
     },
     "execution_count": 5,
     "metadata": {},
     "output_type": "execute_result"
    }
   ],
   "source": [
    "# Lấy ra 6 cột cần dùng\n",
    "covid_df = covid_df[['iso_code', 'continent', 'location', 'date', 'total_cases', 'new_cases']]\n",
    "# In 5 dòng đầu của dữ liệu\n",
    "covid_df.head()"
   ]
  },
  {
   "cell_type": "code",
   "execution_count": 6,
   "metadata": {},
   "outputs": [
    {
     "data": {
      "text/plain": [
       "iso_code          0\n",
       "continent      9956\n",
       "location          0\n",
       "date              0\n",
       "total_cases    3033\n",
       "new_cases      3193\n",
       "dtype: int64"
      ]
     },
     "execution_count": 6,
     "metadata": {},
     "output_type": "execute_result"
    }
   ],
   "source": [
    "# Kiểm tra các giá trị bị thiếu trong `covid_df`\n",
    "covid_df.isnull().sum()\n"
   ]
  },
  {
   "attachments": {},
   "cell_type": "markdown",
   "metadata": {},
   "source": [
    "> Dữ liệu bị thiếu bao gồm ở các cột `continent` chiếm khoảng gần 6%, `total_cases` chiếm khoảng gần 2% và `new_cases` chiếm khoảng gần 2% trên tổng số theo dõi\n",
    "\n",
    "\n",
    "> **Nhận xét**: Số dữ liệu bị thiếu (missing data) chiếm không quá nhiều, tuy nhiên việc có nên bỏ đi không nhóm sẽ trình bày trong mục sau (ở file data_analyst.ipynb)"
   ]
  },
  {
   "cell_type": "code",
   "execution_count": 7,
   "metadata": {},
   "outputs": [],
   "source": [
    "# Dữ liệu đang xét là dữ liệu về chuỗi thời gian nên chúng ta cần chuyển dữ liệu ngày tháng từ dạng string về dạng datetime\n",
    "covid_df['date'] = pd.to_datetime(covid_df['date'])"
   ]
  },
  {
   "cell_type": "code",
   "execution_count": 8,
   "metadata": {},
   "outputs": [
    {
     "name": "stdout",
     "output_type": "stream",
     "text": [
      "<class 'pandas.core.frame.DataFrame'>\n",
      "RangeIndex: 166326 entries, 0 to 166325\n",
      "Data columns (total 6 columns):\n",
      " #   Column       Non-Null Count   Dtype         \n",
      "---  ------       --------------   -----         \n",
      " 0   iso_code     166326 non-null  object        \n",
      " 1   continent    156370 non-null  object        \n",
      " 2   location     166326 non-null  object        \n",
      " 3   date         166326 non-null  datetime64[ns]\n",
      " 4   total_cases  163293 non-null  float64       \n",
      " 5   new_cases    163133 non-null  float64       \n",
      "dtypes: datetime64[ns](1), float64(2), object(3)\n",
      "memory usage: 7.6+ MB\n"
     ]
    }
   ],
   "source": [
    "covid_df.info()\n"
   ]
  },
  {
   "cell_type": "code",
   "execution_count": 9,
   "metadata": {},
   "outputs": [
    {
     "name": "stdout",
     "output_type": "stream",
     "text": [
      "2020-01-01 to 2022-03-05\n"
     ]
    }
   ],
   "source": [
    "'''\n",
    "    Như kết quả đầu ra, chúng ta thấy rằng dữ liệu được thu từ ngày 01-01-2020 \n",
    "    và theo dõi cuối cùng được ghi nhận là vào ngày 05-03-2022\n",
    "\n",
    "'''\n",
    "date_range = str(covid_df['date'].dt.date.min()) + ' to ' +str(covid_df['date'].dt.date.max())\n",
    "print(date_range)"
   ]
  },
  {
   "attachments": {},
   "cell_type": "markdown",
   "metadata": {},
   "source": [
    "### Phân chia dữ liệu thành những tệp nhỏ hơn"
   ]
  },
  {
   "attachments": {},
   "cell_type": "markdown",
   "metadata": {},
   "source": [
    "Trong mục này, nhóm sẽ phân chia dữ liệu theo `continent`"
   ]
  },
  {
   "cell_type": "code",
   "execution_count": 10,
   "metadata": {},
   "outputs": [
    {
     "name": "stdout",
     "output_type": "stream",
     "text": [
      "nan-covid-data.csv\n",
      " (9956, 6)\n",
      "['Asia', nan, 'Europe', 'Africa', 'North America', 'South America', 'Oceania']\n",
      "asia-data.csv\n",
      "(36200, 6)\n",
      "europe-data.csv\n",
      "(37088, 6)\n",
      "africa-data.csv\n",
      "(39417, 6)\n",
      "north-america-data.csv\n",
      "(24931, 6)\n",
      "south-america-data.csv\n",
      "(9517, 6)\n",
      "oceania-data.csv\n",
      "(9217, 6)\n"
     ]
    }
   ],
   "source": [
    "'''\n",
    "    Vì cột continent có những giá trị NaN vậy nên chúng ta sẽ cần lưu ra thành một tệp riêng\n",
    "    để tìm hiểu xem những giá trị NaN đó có nghĩa là gì\n",
    "'''\n",
    "nan_data = covid_df[covid_df['continent'].isnull()]\n",
    "print('nan-covid-data.csv\\n', nan_data.shape)\n",
    "nan_data.to_csv(SRC_LINK / 'nan-covid-data.csv', index=False)\n",
    "# Tìm giá trị duy nhất trong cột continent\n",
    "continents = covid_df['continent'].unique()\n",
    "print(list(continents))\n",
    "for c in continents:\n",
    "    '''\n",
    "        - Sử dụng lower() để chuyển string sang dạng chữ bé hơn\n",
    "        - Sử dụng strip() để đảm bảo rằng ở đầu và cuối của string không có khoảng trắng\n",
    "        - Cuối cùng, thay thế các khoảng trắng thành -\n",
    "    '''\n",
    "    continent = str(c).lower().strip().replace(' ', '-')\n",
    "    if continent != 'nan':\n",
    "        filename = continent + '-data.csv'\n",
    "        print(filename)\n",
    "        print(covid_df.query(f\"continent == '{c}'\").shape)\n",
    "        covid_df.query(f\"continent == '{c}'\").to_csv(SRC_LINK / filename, index=False)"
   ]
  },
  {
   "attachments": {},
   "cell_type": "markdown",
   "metadata": {},
   "source": [
    "## Kết Luận"
   ]
  },
  {
   "attachments": {},
   "cell_type": "markdown",
   "metadata": {},
   "source": [
    "- Sau khi phân tách các dữ liệu ra thành các tập nhỏ hơn, chúng ta có tổng cộng 6 tệp csv được ghi lại vào thư mục `data`\n",
    "-  Cụ thể\n",
    "   -  `asia-data.csv` có 36200 theo dõi\n",
    "   -  `europe-data.csv` có 37088 theo dõi\n",
    "   -  `africa-data.csv` có 39417 theo dõi\n",
    "   -  `north-america-data.csv` có 24931 theo dõi\n",
    "   -  `south-america-data.csv` có 9517 theo dõi\n",
    "   -  `oceania-data.csv` có 9217 theo dõi\n",
    "   -  `nan-covid-data.csv` có 9956 theo dõi"
   ]
  }
 ],
 "metadata": {
  "kernelspec": {
   "display_name": "myenv",
   "language": "python",
   "name": "python3"
  },
  "language_info": {
   "codemirror_mode": {
    "name": "ipython",
    "version": 3
   },
   "file_extension": ".py",
   "mimetype": "text/x-python",
   "name": "python",
   "nbconvert_exporter": "python",
   "pygments_lexer": "ipython3",
   "version": "3.8.8"
  },
  "orig_nbformat": 4
 },
 "nbformat": 4,
 "nbformat_minor": 2
}
